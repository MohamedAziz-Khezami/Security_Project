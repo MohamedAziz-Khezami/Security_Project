{
 "cells": [
  {
   "cell_type": "code",
   "execution_count": 1,
   "metadata": {},
   "outputs": [
    {
     "name": "stdout",
     "output_type": "stream",
     "text": [
      "b'aq4b\\x8d\\x12\"\\x05\\xf0\\x18\\x8f\\x96\\x83cX)\\tps90\\xcf\\xb0\\xcf\\x00\\xd9K\\xcd<\\xef\\xc8\\xa8'\n",
      "b'\\x9c\\x97\\xbf\\x8d7>$\\xc9\\xd7\\xf7\\xe3%4\\x1c\\xe7\\xd2'\n"
     ]
    }
   ],
   "source": [
    "import os\n",
    "from Crypto.Cipher import AES\n",
    "\n",
    "# 1. Generate a key (choose length = 16, 24, or 32 bytes)\n",
    "key = os.urandom(32)  # AES-256\n",
    "print(key)\n",
    "\n",
    "# 2. Generate an IV\n",
    "iv = os.urandom(16) \n",
    "print(iv)"
   ]
  },
  {
   "cell_type": "code",
   "execution_count": null,
   "metadata": {},
   "outputs": [],
   "source": []
  }
 ],
 "metadata": {
  "kernelspec": {
   "display_name": "venv",
   "language": "python",
   "name": "python3"
  },
  "language_info": {
   "codemirror_mode": {
    "name": "ipython",
    "version": 3
   },
   "file_extension": ".py",
   "mimetype": "text/x-python",
   "name": "python",
   "nbconvert_exporter": "python",
   "pygments_lexer": "ipython3",
   "version": "3.12.7"
  }
 },
 "nbformat": 4,
 "nbformat_minor": 2
}
